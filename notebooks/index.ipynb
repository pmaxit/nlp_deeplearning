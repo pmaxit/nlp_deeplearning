{
 "cells": [
  {
   "cell_type": "markdown",
   "id": "compound-navigator",
   "metadata": {},
   "source": [
    "# Experiments with NLP models"
   ]
  },
  {
   "cell_type": "markdown",
   "id": "vocational-space",
   "metadata": {},
   "source": [
    "This project hosts my experiments with NLP models"
   ]
  },
  {
   "cell_type": "code",
   "execution_count": null,
   "id": "thorough-professional",
   "metadata": {},
   "outputs": [],
   "source": []
  }
 ],
 "metadata": {
  "kernelspec": {
   "display_name": "Python 3",
   "language": "python",
   "name": "python3"
  }
 },
 "nbformat": 4,
 "nbformat_minor": 5
}
