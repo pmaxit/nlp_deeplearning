{
 "cells": [
  {
   "cell_type": "code",
   "execution_count": null,
   "id": "joint-courtesy",
   "metadata": {},
   "outputs": [],
   "source": [
    "from torch.utils import data\n",
    "from random import choice, randrange"
   ]
  },
  {
   "cell_type": "code",
   "execution_count": null,
   "id": "figured-tiger",
   "metadata": {},
   "outputs": [],
   "source": [
    "class ToyDataset(data.Dataset):\n",
    "    def __init__(self, min_length = 5, max_length = 20, type='train'):\n",
    "        self.SOS = '<s>'\n",
    "        self.EOS = '</s>'\n",
    "        self.characters = list(\"abcd\")\n",
    "        self.int2char = list(self.characters)\n",
    "        self.char2int = {c: i+3 for i,c in enumerate(self.characters)}\n",
    "        self.VOCAB_SIZE = len(self.characters)\n",
    "        self.min_length =min_length\n",
    "        self.max_length = max_length\n",
    "        \n",
    "        if type == 'train':\n",
    "            self.set = [self._sample() for _ in range(3000)]\n",
    "        else:\n",
    "            self.set = [self._sample() for _ in range(300)]\n",
    "        \n",
    "    \n",
    "    def _sample(self):\n",
    "        random_length = randrange(self.min_length, self.max_length) # pick a random number\n",
    "        random_char_list = [choice(self.characters)[:-1] for _ in range(random_length)]\n",
    "        random_string = ''.join(random_char_list)\n",
    "        a = np.array([self.char2int.get(x) for x in random_string])\n",
    "        b = np.array([self.char2int.get(x) for x in random_string[[::-1]]] + [2])\n",
    "        x = np.zeros((random_length, self.VOCAB_SIZE))"
   ]
  }
 ],
 "metadata": {
  "kernelspec": {
   "display_name": "Python 3",
   "language": "python",
   "name": "python3"
  }
 },
 "nbformat": 4,
 "nbformat_minor": 5
}
