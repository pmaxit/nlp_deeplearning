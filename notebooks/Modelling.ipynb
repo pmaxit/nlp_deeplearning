{
 "cells": [
  {
   "cell_type": "code",
   "execution_count": null,
   "id": "located-knife",
   "metadata": {},
   "outputs": [],
   "source": [
    "# default_exp card"
   ]
  },
  {
   "cell_type": "code",
   "execution_count": null,
   "id": "hybrid-jesus",
   "metadata": {},
   "outputs": [],
   "source": [
    "#export \n",
    "class Sayer:\n",
    "    def __init__(self,name=''):\n",
    "        self.name = name\n",
    "    \n",
    "    def say_hello(self):\n",
    "        return(f'say hello to {self.name}')"
   ]
  },
  {
   "cell_type": "code",
   "execution_count": null,
   "id": "intensive-computer",
   "metadata": {},
   "outputs": [],
   "source": [
    "#export\n",
    "import pandas as pd"
   ]
  },
  {
   "cell_type": "code",
   "execution_count": null,
   "id": "later-budapest",
   "metadata": {},
   "outputs": [],
   "source": [
    "#export\n",
    "sy = Sayer('puneet')\n",
    "assert sy.say_hello() == 'say hello to puneet'"
   ]
  },
  {
   "cell_type": "code",
   "execution_count": null,
   "id": "tested-product",
   "metadata": {},
   "outputs": [
    {
     "name": "stdout",
     "output_type": "stream",
     "text": [
      "Converted Modelling.ipynb.\n"
     ]
    }
   ],
   "source": [
    "from nbdev.export import notebook2script; notebook2script()\n"
   ]
  },
  {
   "cell_type": "code",
   "execution_count": null,
   "id": "virgin-puppy",
   "metadata": {},
   "outputs": [],
   "source": []
  }
 ],
 "metadata": {
  "kernelspec": {
   "display_name": "Python 3",
   "language": "python",
   "name": "python3"
  }
 },
 "nbformat": 4,
 "nbformat_minor": 5
}
