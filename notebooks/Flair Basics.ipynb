{
 "cells": [
  {
   "cell_type": "markdown",
   "id": "quality-drilling",
   "metadata": {},
   "source": [
    "# Flair Basics"
   ]
  },
  {
   "cell_type": "code",
   "execution_count": null,
   "id": "confident-cowboy",
   "metadata": {},
   "outputs": [],
   "source": [
    "from flair.data import Sentence"
   ]
  },
  {
   "cell_type": "markdown",
   "id": "wired-container",
   "metadata": {},
   "source": [
    "We can now define a sentence like : "
   ]
  },
  {
   "cell_type": "code",
   "execution_count": null,
   "id": "metropolitan-cradle",
   "metadata": {},
   "outputs": [],
   "source": [
    "sentence = Sentence('The grass is greeen')"
   ]
  },
  {
   "cell_type": "code",
   "execution_count": null,
   "id": "trained-effort",
   "metadata": {},
   "outputs": [
    {
     "name": "stdout",
     "output_type": "stream",
     "text": [
      "Sentence: \"The grass is greeen\"   [− Tokens: 4]\n"
     ]
    }
   ],
   "source": [
    "print(sentence)"
   ]
  },
  {
   "cell_type": "markdown",
   "id": "imported-luxury",
   "metadata": {},
   "source": [
    "We can access the tokens via their token id or with their index"
   ]
  },
  {
   "cell_type": "code",
   "execution_count": null,
   "id": "aboriginal-bulletin",
   "metadata": {},
   "outputs": [
    {
     "name": "stdout",
     "output_type": "stream",
     "text": [
      "Token: 4 greeen\n",
      "Token: 4 greeen\n"
     ]
    }
   ],
   "source": [
    "print(sentence.get_token(4))\n",
    "print(sentence[3])"
   ]
  },
  {
   "cell_type": "markdown",
   "id": "compatible-superior",
   "metadata": {},
   "source": [
    "We can also iterate over all tokens in a sentence"
   ]
  },
  {
   "cell_type": "code",
   "execution_count": null,
   "id": "annual-assault",
   "metadata": {},
   "outputs": [
    {
     "name": "stdout",
     "output_type": "stream",
     "text": [
      "Token: 1 The\n",
      "Token: 2 grass\n",
      "Token: 3 is\n",
      "Token: 4 greeen\n"
     ]
    }
   ],
   "source": [
    "for token in sentence:\n",
    "    print(token)"
   ]
  },
  {
   "cell_type": "markdown",
   "id": "brutal-equivalent",
   "metadata": {},
   "source": [
    "# Tokenization"
   ]
  },
  {
   "cell_type": "markdown",
   "id": "korean-satisfaction",
   "metadata": {},
   "source": [
    "There is simple tokenizer included in the library using the lightweight segtok library to tokenize your text for such a sentence defenition. In the sentence constructor `use_tokenize` to tokenize the input string before instantiating the Sentence object"
   ]
  },
  {
   "cell_type": "code",
   "execution_count": null,
   "id": "patient-average",
   "metadata": {},
   "outputs": [
    {
     "name": "stdout",
     "output_type": "stream",
     "text": [
      "Sentence: \"The grass is green .\"   [− Tokens: 5]\n"
     ]
    }
   ],
   "source": [
    "sentence = Sentence('The grass is green.', use_tokenizer=True)\n",
    "print(sentence)"
   ]
  },
  {
   "cell_type": "markdown",
   "id": "sealed-harvey",
   "metadata": {},
   "source": [
    "# Tags on tokens"
   ]
  },
  {
   "cell_type": "markdown",
   "id": "random-afghanistan",
   "metadata": {},
   "source": [
    "A token as fields for linguistic annotation:\n",
    "\n",
    "- Lemma\n",
    "- part-of-speech tag\n",
    "- named entity tag"
   ]
  },
  {
   "cell_type": "markdown",
   "id": "valued-israel",
   "metadata": {},
   "source": [
    "We can add a tag by specifying the tag type and the tag value.\n",
    "\n",
    "We will be adding an NER tag of type 'color' to the word 'green'. This means that we've tagged this word as an entity of type color."
   ]
  },
  {
   "cell_type": "code",
   "execution_count": null,
   "id": "protected-hawaii",
   "metadata": {},
   "outputs": [],
   "source": [
    "sentence[3].add_tag('ner','color')"
   ]
  },
  {
   "cell_type": "code",
   "execution_count": null,
   "id": "accomplished-indianapolis",
   "metadata": {},
   "outputs": [
    {
     "name": "stdout",
     "output_type": "stream",
     "text": [
      "The grass is green <color> .\n"
     ]
    }
   ],
   "source": [
    "print(sentence.to_tagged_string())"
   ]
  },
  {
   "cell_type": "markdown",
   "id": "first-loading",
   "metadata": {},
   "source": [
    "Each tag has associated score too"
   ]
  },
  {
   "cell_type": "code",
   "execution_count": null,
   "id": "brown-tourist",
   "metadata": {},
   "outputs": [
    {
     "name": "stdout",
     "output_type": "stream",
     "text": [
      "Token: 4 green is tagged as color with confidence score 1.0\n"
     ]
    }
   ],
   "source": [
    "from flair.data import Label\n",
    "tag = sentence[3].get_tag('ner')\n",
    "print(f'{sentence[3]} is tagged as {tag.value} with confidence score {tag.score}')"
   ]
  },
  {
   "cell_type": "markdown",
   "id": "czech-modification",
   "metadata": {},
   "source": [
    "The manually added color tag has a score of 1.0 . A tag predicted by a sequence labeler will have a score value that indicates the classifier confidence."
   ]
  },
  {
   "cell_type": "markdown",
   "id": "fabulous-support",
   "metadata": {},
   "source": [
    "A sentence can have one or multiple labels that can for example be used in classification task. For instance, the example below shows how we add the label 'sports' to a sentence. "
   ]
  },
  {
   "cell_type": "code",
   "execution_count": null,
   "id": "proof-manitoba",
   "metadata": {},
   "outputs": [],
   "source": [
    "sentence.add_label()"
   ]
  },
  {
   "cell_type": "code",
   "execution_count": null,
   "id": "miniature-interstate",
   "metadata": {},
   "outputs": [
    {
     "name": "stdout",
     "output_type": "stream",
     "text": [
      "Sentence: \"France is the current world cup winner .\"   [− Tokens: 8  − Sentence-Labels: {'topic': [sports (1.0)], 'language': [English (1.0)]}]\n"
     ]
    }
   ],
   "source": [
    "sentence = Sentence('France is the current world cup winner.')\n",
    "sentence.add_label('topic','sports')\n",
    "sentence.add_label('language', 'English')\n",
    "print(sentence)"
   ]
  },
  {
   "cell_type": "code",
   "execution_count": null,
   "id": "thousand-finland",
   "metadata": {},
   "outputs": [
    {
     "name": "stdout",
     "output_type": "stream",
     "text": [
      "sports (1.0)\n",
      "English (1.0)\n"
     ]
    }
   ],
   "source": [
    "for label in sentence.labels:\n",
    "    print(label)"
   ]
  },
  {
   "cell_type": "markdown",
   "id": "southern-quantum",
   "metadata": {},
   "source": [
    "# Tagging Text"
   ]
  },
  {
   "cell_type": "markdown",
   "id": "blind-minority",
   "metadata": {},
   "source": [
    "Using pre-trained sequence tagging models"
   ]
  },
  {
   "cell_type": "markdown",
   "id": "domestic-vegetable",
   "metadata": {},
   "source": [
    "Flair has numerous pre-trained models. For the named entity recognition (NER) task there is a model that was trained on the English CoNLL-03 task and can recognize 4 different entity types. Import it using:\n"
   ]
  },
  {
   "cell_type": "code",
   "execution_count": null,
   "id": "essential-community",
   "metadata": {},
   "outputs": [
    {
     "name": "stdout",
     "output_type": "stream",
     "text": [
      "2021-03-13 11:01:14,590 --------------------------------------------------------------------------------\n",
      "2021-03-13 11:01:14,591 The model key 'ner' now maps to 'https://huggingface.co/flair/ner-english' on the HuggingFace ModelHub\n",
      "2021-03-13 11:01:14,591  - The most current version of the model is automatically downloaded from there.\n",
      "2021-03-13 11:01:14,592  - (you can alternatively manually download the original model at https://nlp.informatik.hu-berlin.de/resources/models/ner/en-ner-conll03-v0.4.pt)\n",
      "2021-03-13 11:01:14,592 --------------------------------------------------------------------------------\n"
     ]
    },
    {
     "data": {
      "application/vnd.jupyter.widget-view+json": {
       "model_id": "4515e35f2691410c8c80f1987932321b",
       "version_major": 2,
       "version_minor": 0
      },
      "text/plain": [
       "HBox(children=(FloatProgress(value=0.0, description='Downloading', max=432176557.0, style=ProgressStyle(descri…"
      ]
     },
     "metadata": {},
     "output_type": "display_data"
    },
    {
     "name": "stdout",
     "output_type": "stream",
     "text": [
      "\n",
      "2021-03-13 11:01:23,188 loading file /Users/puneet/.flair/models/ner-english/4f4cdab26f24cb98b732b389e6cebc646c36f54cfd6e0b7d3b90b25656e4262f.8baa8ae8795f4df80b28e7f7b61d788ecbb057d1dc85aacb316f1bd02837a4a4\n"
     ]
    }
   ],
   "source": [
    "from flair.models import SequenceTagger\n",
    "tagger = SequenceTagger.load('ner')"
   ]
  },
  {
   "cell_type": "code",
   "execution_count": null,
   "id": "neutral-jones",
   "metadata": {},
   "outputs": [],
   "source": [
    "tagger.predict(sentence)"
   ]
  },
  {
   "cell_type": "code",
   "execution_count": null,
   "id": "colored-worship",
   "metadata": {},
   "outputs": [
    {
     "name": "stdout",
     "output_type": "stream",
     "text": [
      "France <S-LOC> is the current world cup winner .\n"
     ]
    }
   ],
   "source": [
    "print(sentence.to_tagged_string())"
   ]
  },
  {
   "cell_type": "code",
   "execution_count": null,
   "id": "continuing-agent",
   "metadata": {},
   "outputs": [
    {
     "name": "stdout",
     "output_type": "stream",
     "text": [
      "Tim <B-PER> Cook <E-PER> went to New <B-LOC> York <I-LOC> City <E-LOC> .\n"
     ]
    }
   ],
   "source": [
    "sentence = Sentence('Tim Cook went to New York City .')\n",
    "\n",
    "tagger.predict(sentence)\n",
    "\n",
    "print(sentence.to_tagged_string())"
   ]
  },
  {
   "cell_type": "code",
   "execution_count": null,
   "id": "gothic-vehicle",
   "metadata": {},
   "outputs": [
    {
     "name": "stdout",
     "output_type": "stream",
     "text": [
      "Span [1,2]: \"Tim Cook\"   [− Labels: PER (0.9999)]\n",
      "Span [5,6,7]: \"New York City\"   [− Labels: LOC (0.9851)]\n"
     ]
    }
   ],
   "source": [
    "for entity in sentence.get_spans('ner'):\n",
    "    print(entity)"
   ]
  },
  {
   "cell_type": "markdown",
   "id": "varied-mills",
   "metadata": {},
   "source": [
    "Each span has a text, tag value, its position in the sentence and \"score\" that indicates how confident the tagger is that prediction is correct. You can also get additional information, such as as the position offsets of each entity in the sentence by calling"
   ]
  },
  {
   "cell_type": "code",
   "execution_count": null,
   "id": "innocent-racing",
   "metadata": {},
   "outputs": [
    {
     "name": "stdout",
     "output_type": "stream",
     "text": [
      "{'text': 'Tim Cook went to New York City .', 'labels': [], 'entities': [{'text': 'Tim Cook', 'start_pos': 0, 'end_pos': 8, 'labels': [PER (0.9999)]}, {'text': 'New York City', 'start_pos': 17, 'end_pos': 30, 'labels': [LOC (0.9851)]}]}\n"
     ]
    }
   ],
   "source": [
    "print(sentence.to_dict(tag_type='ner'))"
   ]
  }
 ],
 "metadata": {
  "kernelspec": {
   "display_name": "Python 3",
   "language": "python",
   "name": "python3"
  }
 },
 "nbformat": 4,
 "nbformat_minor": 5
}
