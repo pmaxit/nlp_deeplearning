{
 "cells": [
  {
   "cell_type": "code",
   "execution_count": 7,
   "id": "neural-interaction",
   "metadata": {},
   "outputs": [],
   "source": [
    "import torch\n",
    "import torch.nn as nn\n",
    "import torch.nn.functional as F\n",
    "from torch.distributions import Categorical\n",
    "import numpy as np\n",
    "\n",
    "import pytorch_lightning as pl\n",
    "from dotmap import DotMap"
   ]
  },
  {
   "cell_type": "code",
   "execution_count": 2,
   "id": "soviet-forwarding",
   "metadata": {},
   "outputs": [],
   "source": [
    "device = torch.device(\"cuda\" if torch.cuda.is_available() else \"cpu\")\n",
    "PAD_ID = 1"
   ]
  },
  {
   "cell_type": "code",
   "execution_count": 10,
   "id": "intermediate-south",
   "metadata": {},
   "outputs": [],
   "source": [
    "class RNN(pl.LightningModule):\n",
    "    def __init__(self, input_size, output_size, hidden_size, num_layers, batch_size=4):\n",
    "        super(RNN, self).__init__()\n",
    "        self.num_layers = num_layers\n",
    "        self.hidden_size = hidden_size\n",
    "        self.output_size = output_size\n",
    "        self.input_size = input_size\n",
    "        \n",
    "        self.embedding = nn.Embedding(input_size, output_size)\n",
    "        self.rnn = nn.LSTM(input_size = input_size, hidden_size=hidden_size, num_layers = num_layers)\n",
    "        self.decoder = nn.Linear(hidden_size, output_size)\n",
    "        \n",
    "        self.criterion = nn.NLLLoss(ignore_index = PAD_ID)\n",
    "\n",
    "        \n",
    "    def forward(self, input_seq, hidden_state):\n",
    "        embedding  = self.embedding(input_seq)\n",
    "        output, hidden_state = self.rnn(embedding, hidden_state)\n",
    "        output = output.reshape(output.shape[0],-1)\n",
    "        output = self.decoder(output)\n",
    "        \n",
    "        return output, (hidden_state[0].detach(), hidden_state[1].detach())\n",
    "    \n",
    "    def init_hidden(self, batch_size):\n",
    "        h = torch.zeros(self.num_layers, batch_size, self.hidden_size).to(device)\n",
    "        c = torch.zeros(self.num_layers, batch_size, self.hidden_size).to(device)\n",
    "        \n",
    "        return h,c\n",
    "    \n",
    "    def training_step(self, batch, batch_idx):\n",
    "        src, tgt, lengths = batch\n",
    "        \n",
    "        hidden_state = self.init_hidden(src.shape[0])\n",
    "        loss = 0\n",
    "        chunk_len = src.shape[1]\n",
    "        for j in range(chunk_len):\n",
    "            output, (h,c ) = self.rnn(src[:,j],hidden_state)\n",
    "            loss += self.criterion(output, target[:,j])\n",
    "        \n",
    "        loss = loss.item()/ chunk_len\n",
    "        \n",
    "        self.log('train_loss', loss)\n",
    "        return {'loss': loss}\n",
    "    \n",
    "    def generate(self, initial_char = 'A', predict_len = 15, temperature=0.85):\n",
    "        hidden, cell = self.init_hidden(batch_size = 1)\n",
    "        initial_input = self.char2tensor(initial_char)\n",
    "        predicted_str = initial_char\n",
    "        \n",
    "        for p in range(len(inital_char)-1):\n",
    "            _, (hidden, cell) = self.rnn(initial_input[p].view(1).to(device), hidden, cell)\n",
    "            \n",
    "        last_char = initial_input[-1]\n",
    "        \n",
    "        for p in range(predict_len):\n",
    "            output, (hidden , cell) = self.rnn(last_char.view(1).to(device), hidden, cell)\n",
    "            output_dist = output.data.view(-1).div(temperature).exp()\n",
    "            top_char = torch.multinomial(output_dist, 1)[0]\n",
    "            \n",
    "            # convert back to string\n",
    "            predicted_char = all_chars[top_char]\n",
    "            predicted += predicted_char\n",
    "            last_char  = top_char\n",
    "            \n",
    "        return predicted"
   ]
  },
  {
   "cell_type": "code",
   "execution_count": null,
   "id": "olympic-gilbert",
   "metadata": {},
   "outputs": [],
   "source": [
    "model = RNN()"
   ]
  },
  {
   "cell_type": "code",
   "execution_count": 11,
   "id": "distinguished-heater",
   "metadata": {},
   "outputs": [
    {
     "name": "stderr",
     "output_type": "stream",
     "text": [
      "GPU available: False, used: False\n",
      "TPU available: None, using: 0 TPU cores\n",
      "Running in fast_dev_run mode: will run a full train, val and test loop using 1 batch(es).\n"
     ]
    }
   ],
   "source": [
    "trainer = pl.Trainer(fast_dev_run=True)"
   ]
  },
  {
   "cell_type": "code",
   "execution_count": null,
   "id": "loaded-superintendent",
   "metadata": {},
   "outputs": [],
   "source": [
    "trainer.fit()"
   ]
  }
 ],
 "metadata": {
  "kernelspec": {
   "display_name": "Python 3",
   "language": "python",
   "name": "python3"
  },
  "language_info": {
   "codemirror_mode": {
    "name": "ipython",
    "version": 3
   },
   "file_extension": ".py",
   "mimetype": "text/x-python",
   "name": "python",
   "nbconvert_exporter": "python",
   "pygments_lexer": "ipython3",
   "version": "3.9.2"
  }
 },
 "nbformat": 4,
 "nbformat_minor": 5
}
